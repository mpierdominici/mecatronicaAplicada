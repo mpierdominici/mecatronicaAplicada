{
 "cells": [
  {
   "cell_type": "code",
   "execution_count": 1,
   "metadata": {
    "scrolled": true
   },
   "outputs": [
    {
     "name": "stderr",
     "output_type": "stream",
     "text": [
      "Using TensorFlow backend.\n"
     ]
    },
    {
     "name": "stdout",
     "output_type": "stream",
     "text": [
      "Generating anchor boxes for training images and annotation...\n",
      "Average IOU for 9 anchors: 0.96\n",
      "Anchor Boxes generated.\n",
      "Detection configuration saved in  arduino\\json\\detection_config.json\n",
      "Training on: \t['arduino']\n",
      "Training with Batch Size:  4\n",
      "Number of Experiments:  10\n",
      "WARNING:tensorflow:From D:\\Instalado\\anaconda3\\envs\\tf\\lib\\site-packages\\tensorflow_core\\python\\ops\\resource_variable_ops.py:1630: calling BaseResourceVariable.__init__ (from tensorflow.python.ops.resource_variable_ops) with constraint is deprecated and will be removed in a future version.\n",
      "Instructions for updating:\n",
      "If using Keras pass *_constraint arguments to layers.\n",
      "WARNING:tensorflow:From D:\\Instalado\\anaconda3\\envs\\tf\\lib\\site-packages\\imageai\\Detection\\Custom\\yolo.py:24: to_float (from tensorflow.python.ops.math_ops) is deprecated and will be removed in a future version.\n",
      "Instructions for updating:\n",
      "Use `tf.cast` instead.\n",
      "WARNING:tensorflow:From D:\\Instalado\\anaconda3\\envs\\tf\\lib\\site-packages\\imageai\\Detection\\Custom\\yolo.py:149: The name tf.assign_add is deprecated. Please use tf.compat.v1.assign_add instead.\n",
      "\n",
      "Training with transfer learning from pretrained Model\n"
     ]
    },
    {
     "name": "stderr",
     "output_type": "stream",
     "text": [
      "D:\\Instalado\\anaconda3\\envs\\tf\\lib\\site-packages\\keras\\callbacks\\callbacks.py:998: UserWarning: `epsilon` argument is deprecated and will be removed, use `min_delta` instead.\n",
      "  warnings.warn('`epsilon` argument is deprecated and '\n"
     ]
    },
    {
     "name": "stdout",
     "output_type": "stream",
     "text": [
      "WARNING:tensorflow:From D:\\Instalado\\anaconda3\\envs\\tf\\lib\\site-packages\\keras\\backend\\tensorflow_backend.py:422: The name tf.global_variables is deprecated. Please use tf.compat.v1.global_variables instead.\n",
      "\n",
      "WARNING:tensorflow:From D:\\Instalado\\anaconda3\\envs\\tf\\lib\\site-packages\\keras\\backend\\tensorflow_backend.py:431: The name tf.is_variable_initialized is deprecated. Please use tf.compat.v1.is_variable_initialized instead.\n",
      "\n",
      "WARNING:tensorflow:From D:\\Instalado\\anaconda3\\envs\\tf\\lib\\site-packages\\keras\\backend\\tensorflow_backend.py:438: The name tf.variables_initializer is deprecated. Please use tf.compat.v1.variables_initializer instead.\n",
      "\n",
      "WARNING:tensorflow:From D:\\Instalado\\anaconda3\\envs\\tf\\lib\\site-packages\\keras\\callbacks\\tensorboard_v1.py:200: The name tf.summary.merge_all is deprecated. Please use tf.compat.v1.summary.merge_all instead.\n",
      "\n",
      "WARNING:tensorflow:From D:\\Instalado\\anaconda3\\envs\\tf\\lib\\site-packages\\keras\\callbacks\\tensorboard_v1.py:203: The name tf.summary.FileWriter is deprecated. Please use tf.compat.v1.summary.FileWriter instead.\n",
      "\n",
      "Epoch 1/10\n",
      "16/16 [==============================] - 168s 10s/step - loss: 157.9844 - yolo_layer_1_loss: 22.1666 - yolo_layer_2_loss: 41.9083 - yolo_layer_3_loss: 93.9095 - val_loss: 131.5534 - val_yolo_layer_1_loss: 17.4359 - val_yolo_layer_2_loss: 34.0254 - val_yolo_layer_3_loss: 69.6633\n",
      "WARNING:tensorflow:From D:\\Instalado\\anaconda3\\envs\\tf\\lib\\site-packages\\keras\\callbacks\\tensorboard_v1.py:343: The name tf.Summary is deprecated. Please use tf.compat.v1.Summary instead.\n",
      "\n",
      "Epoch 2/10\n",
      "16/16 [==============================] - 149s 9s/step - loss: 129.9130 - yolo_layer_1_loss: 17.2632 - yolo_layer_2_loss: 34.5985 - yolo_layer_3_loss: 78.0512 - val_loss: 145.7976 - val_yolo_layer_1_loss: 18.4720 - val_yolo_layer_2_loss: 35.5756 - val_yolo_layer_3_loss: 73.9309\n",
      "Epoch 3/10\n",
      "16/16 [==============================] - 154s 10s/step - loss: 132.0566 - yolo_layer_1_loss: 16.9730 - yolo_layer_2_loss: 35.4317 - yolo_layer_3_loss: 79.6519 - val_loss: 113.8168 - val_yolo_layer_1_loss: 17.3862 - val_yolo_layer_2_loss: 33.0033 - val_yolo_layer_3_loss: 68.2212\n",
      "Epoch 4/10\n",
      "16/16 [==============================] - 156s 10s/step - loss: 118.5687 - yolo_layer_1_loss: 14.8326 - yolo_layer_2_loss: 31.7613 - yolo_layer_3_loss: 71.9748 - val_loss: 129.2351 - val_yolo_layer_1_loss: 15.4132 - val_yolo_layer_2_loss: 29.1582 - val_yolo_layer_3_loss: 59.7614\n",
      "Epoch 5/10\n",
      "16/16 [==============================] - 142s 9s/step - loss: 99.1828 - yolo_layer_1_loss: 11.7198 - yolo_layer_2_loss: 26.8011 - yolo_layer_3_loss: 60.6618 - val_loss: 96.6809 - val_yolo_layer_1_loss: 13.1016 - val_yolo_layer_2_loss: 25.8254 - val_yolo_layer_3_loss: 52.8526\n",
      "Epoch 6/10\n",
      "16/16 [==============================] - 175s 11s/step - loss: 92.5963 - yolo_layer_1_loss: 10.6029 - yolo_layer_2_loss: 24.6051 - yolo_layer_3_loss: 57.3883 - val_loss: 63.2057 - val_yolo_layer_1_loss: 10.4818 - val_yolo_layer_2_loss: 21.8167 - val_yolo_layer_3_loss: 45.8965\n",
      "Epoch 7/10\n",
      "16/16 [==============================] - 233s 15s/step - loss: 89.0935 - yolo_layer_1_loss: 10.6881 - yolo_layer_2_loss: 22.9478 - yolo_layer_3_loss: 55.4576 - val_loss: 58.9217 - val_yolo_layer_1_loss: 8.8118 - val_yolo_layer_2_loss: 18.5090 - val_yolo_layer_3_loss: 43.7430\n",
      "Epoch 8/10\n",
      "16/16 [==============================] - 198s 12s/step - loss: 68.9030 - yolo_layer_1_loss: 8.4375 - yolo_layer_2_loss: 17.1857 - yolo_layer_3_loss: 43.2799 - val_loss: 65.5178 - val_yolo_layer_1_loss: 7.8348 - val_yolo_layer_2_loss: 17.1454 - val_yolo_layer_3_loss: 38.6633\n",
      "Epoch 9/10\n",
      "16/16 [==============================] - 227s 14s/step - loss: 63.0781 - yolo_layer_1_loss: 8.8843 - yolo_layer_2_loss: 15.3723 - yolo_layer_3_loss: 38.8215 - val_loss: 56.1417 - val_yolo_layer_1_loss: 7.6706 - val_yolo_layer_2_loss: 15.8833 - val_yolo_layer_3_loss: 33.8670\n",
      "Epoch 10/10\n",
      "16/16 [==============================] - 222s 14s/step - loss: 56.2609 - yolo_layer_1_loss: 8.4062 - yolo_layer_2_loss: 13.3331 - yolo_layer_3_loss: 34.5216 - val_loss: 49.9434 - val_yolo_layer_1_loss: 6.9211 - val_yolo_layer_2_loss: 15.2769 - val_yolo_layer_3_loss: 29.1133\n"
     ]
    }
   ],
   "source": [
    "from imageai.Detection.Custom import DetectionModelTrainer\n",
    "\n",
    "trainer = DetectionModelTrainer()\n",
    "trainer.setModelTypeAsYOLOv3()\n",
    "trainer.setDataDirectory(data_directory=\"arduino\")\n",
    "trainer.setTrainConfig(object_names_array=[\"arduino\"], batch_size=4, num_experiments=10, train_from_pretrained_model=\"modelo/yolo.h5\")\n",
    "trainer.trainModel()"
   ]
  }
 ],
 "metadata": {
  "kernelspec": {
   "display_name": "Python 3",
   "language": "python",
   "name": "python3"
  },
  "language_info": {
   "codemirror_mode": {
    "name": "ipython",
    "version": 3
   },
   "file_extension": ".py",
   "mimetype": "text/x-python",
   "name": "python",
   "nbconvert_exporter": "python",
   "pygments_lexer": "ipython3",
   "version": "3.7.7"
  }
 },
 "nbformat": 4,
 "nbformat_minor": 4
}
