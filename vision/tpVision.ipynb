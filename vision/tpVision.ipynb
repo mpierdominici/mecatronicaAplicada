{
 "cells": [
  {
   "cell_type": "code",
   "execution_count": 4,
   "metadata": {},
   "outputs": [],
   "source": [
    "from imageai.Detection import ObjectDetection\n",
    "detector = ObjectDetection()\n",
    "model_path = \"./modelo/yolo.h5\"\n",
    "input_path = \"./entrada/test45.jpg\"\n",
    "output_path = \"./salida/newimage.jpg\"\n"
   ]
  },
  {
   "cell_type": "code",
   "execution_count": 5,
   "metadata": {},
   "outputs": [
    {
     "name": "stdout",
     "output_type": "stream",
     "text": [
      "WARNING:tensorflow:From D:\\Instalado\\anaconda3\\envs\\tf\\lib\\site-packages\\tensorflow_core\\python\\ops\\array_ops.py:1475: where (from tensorflow.python.ops.array_ops) is deprecated and will be removed in a future version.\n",
      "Instructions for updating:\n",
      "Use tf.where in 2.0, which has the same broadcast rule as np.where\n"
     ]
    }
   ],
   "source": [
    "detector.setModelTypeAsYOLOv3()\n",
    "detector.setModelPath(model_path)\n",
    "detector.loadModel()"
   ]
  },
  {
   "cell_type": "code",
   "execution_count": 7,
   "metadata": {},
   "outputs": [],
   "source": [
    "detection=detector.detectObjectsFromImage(input_image=input_path,output_image_path=output_path)"
   ]
  },
  {
   "cell_type": "code",
   "execution_count": 8,
   "metadata": {},
   "outputs": [
    {
     "name": "stdout",
     "output_type": "stream",
     "text": [
      "truck  :  73.67382645606995\n",
      "bus  :  94.95547413825989\n",
      "bus  :  96.30529284477234\n",
      "motorcycle  :  91.74527525901794\n",
      "car  :  61.34989857673645\n",
      "car  :  65.27217626571655\n",
      "car  :  69.34820413589478\n",
      "car  :  80.65564036369324\n",
      "car  :  95.87199091911316\n",
      "car  :  97.66141176223755\n",
      "car  :  99.11775588989258\n",
      "car  :  99.50542449951172\n",
      "person  :  58.63155126571655\n",
      "person  :  59.862732887268066\n",
      "person  :  60.66584587097168\n",
      "person  :  79.52511310577393\n",
      "person  :  81.87451362609863\n",
      "person  :  85.14029383659363\n",
      "person  :  89.314204454422\n",
      "person  :  89.70968127250671\n",
      "person  :  92.25745797157288\n",
      "person  :  96.69446349143982\n",
      "person  :  97.82803058624268\n",
      "person  :  97.91315793991089\n"
     ]
    }
   ],
   "source": [
    "for i in detection:\n",
    "    print(i[\"name\"],\" : \",i[\"percentage_probability\"])"
   ]
  }
 ],
 "metadata": {
  "kernelspec": {
   "display_name": "Python 3",
   "language": "python",
   "name": "python3"
  },
  "language_info": {
   "codemirror_mode": {
    "name": "ipython",
    "version": 3
   },
   "file_extension": ".py",
   "mimetype": "text/x-python",
   "name": "python",
   "nbconvert_exporter": "python",
   "pygments_lexer": "ipython3",
   "version": "3.7.7"
  }
 },
 "nbformat": 4,
 "nbformat_minor": 4
}
